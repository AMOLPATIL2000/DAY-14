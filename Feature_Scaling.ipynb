{
  "nbformat": 4,
  "nbformat_minor": 0,
  "metadata": {
    "colab": {
      "name": "Feature_Scaling.ipynb",
      "provenance": []
    },
    "kernelspec": {
      "name": "python3",
      "display_name": "Python 3"
    },
    "language_info": {
      "name": "python"
    }
  },
  "cells": [
    {
      "cell_type": "markdown",
      "source": [
        "USE DATASET"
      ],
      "metadata": {
        "id": "VmBTitdcOaJK"
      }
    },
    {
      "cell_type": "code",
      "execution_count": 4,
      "metadata": {
        "id": "8diYskwrMlb9"
      },
      "outputs": [],
      "source": [
        "import pandas as pd\n",
        "import numpy as np\n",
        " \n",
        "arr = np.array([['M', 81.4, 82.2, 44, 6.1, 120000, 'no'],\n",
        "               ['M', 75.2, 86.2, 40, 5.9, 80000, 'no'],\n",
        "               ['F', 80.0, 83.2, 34, 5.4, 210000, 'yes'],\n",
        "               ['F', 85.4, 72.2, 46, 5.6, 50000, 'yes'],\n",
        "               ['M', 68.4, 87.2, 28, 5.11, 70000, 'no']])\n",
        "df = pd.DataFrame(arr)\n",
        "df.columns = ['gender', 'hsc_p', 'ssc_p', 'age', 'height', 'salary', 'suffer_from_disease']"
      ]
    },
    {
      "cell_type": "markdown",
      "source": [
        "CONVERT AGE , SALARY TO int and ssc,hsc,height to float"
      ],
      "metadata": {
        "id": "rq-MTyQuOg2Z"
      }
    },
    {
      "cell_type": "code",
      "source": [
        "df[['age','salary']] = df[['age','salary']] .astype(int)\n",
        "df[['hsc_p', 'ssc_p','height']] =df[['hsc_p', 'ssc_p','height']].astype('float')"
      ],
      "metadata": {
        "id": "UQs3zUpOM078"
      },
      "execution_count": 5,
      "outputs": []
    },
    {
      "cell_type": "markdown",
      "source": [
        "Write Normalization Function and Apply all Above Columns"
      ],
      "metadata": {
        "id": "Iu1EVkf-P1UA"
      }
    },
    {
      "cell_type": "code",
      "source": [
        "def normalize(values):\n",
        "  return (values-values.min())/(values.max()-values.min())\n",
        "cols = ['hsc_p', 'ssc_p', 'age', 'height', 'salary']\n",
        "df[cols]=df[cols].apply(normalize)\n",
        "df"
      ],
      "metadata": {
        "id": "T6FQMRlcQMX-"
      },
      "execution_count": null,
      "outputs": []
    },
    {
      "cell_type": "markdown",
      "source": [
        "Write Standrdization Function and Apply all Above Columns"
      ],
      "metadata": {
        "id": "Sy8vkniZQ5yH"
      }
    },
    {
      "cell_type": "code",
      "source": [
        "def std(values):\n",
        "  return (values-values.mean())/(values.std())\n",
        "cols = ['hsc_p', 'ssc_p', 'age', 'height', 'salary']\n",
        "df[cols]=df[cols].apply(std)\n",
        "df"
      ],
      "metadata": {
        "colab": {
          "base_uri": "https://localhost:8080/",
          "height": 206
        },
        "id": "QIufbmxTQfYX",
        "outputId": "cb7ae0ea-03c2-4754-9e53-49b09daf1194"
      },
      "execution_count": 8,
      "outputs": [
        {
          "output_type": "execute_result",
          "data": {
            "text/html": [
              "<div>\n",
              "<style scoped>\n",
              "    .dataframe tbody tr th:only-of-type {\n",
              "        vertical-align: middle;\n",
              "    }\n",
              "\n",
              "    .dataframe tbody tr th {\n",
              "        vertical-align: top;\n",
              "    }\n",
              "\n",
              "    .dataframe thead th {\n",
              "        text-align: right;\n",
              "    }\n",
              "</style>\n",
              "<table border=\"1\" class=\"dataframe\">\n",
              "  <thead>\n",
              "    <tr style=\"text-align: right;\">\n",
              "      <th></th>\n",
              "      <th>gender</th>\n",
              "      <th>hsc_p</th>\n",
              "      <th>ssc_p</th>\n",
              "      <th>age</th>\n",
              "      <th>height</th>\n",
              "      <th>salary</th>\n",
              "      <th>suffer_from_disease</th>\n",
              "    </tr>\n",
              "  </thead>\n",
              "  <tbody>\n",
              "    <tr>\n",
              "      <th>0</th>\n",
              "      <td>M</td>\n",
              "      <td>0.508834</td>\n",
              "      <td>-2.795035e-16</td>\n",
              "      <td>0.756481</td>\n",
              "      <td>1.216399</td>\n",
              "      <td>0.220534</td>\n",
              "      <td>no</td>\n",
              "    </tr>\n",
              "    <tr>\n",
              "      <th>1</th>\n",
              "      <td>M</td>\n",
              "      <td>-0.441398</td>\n",
              "      <td>6.713451e-01</td>\n",
              "      <td>0.216137</td>\n",
              "      <td>0.707446</td>\n",
              "      <td>-0.409563</td>\n",
              "      <td>no</td>\n",
              "    </tr>\n",
              "    <tr>\n",
              "      <th>2</th>\n",
              "      <td>F</td>\n",
              "      <td>0.294265</td>\n",
              "      <td>1.678363e-01</td>\n",
              "      <td>-0.594378</td>\n",
              "      <td>-0.564939</td>\n",
              "      <td>1.638252</td>\n",
              "      <td>yes</td>\n",
              "    </tr>\n",
              "    <tr>\n",
              "      <th>3</th>\n",
              "      <td>F</td>\n",
              "      <td>1.121887</td>\n",
              "      <td>-1.678363e+00</td>\n",
              "      <td>1.026652</td>\n",
              "      <td>-0.055985</td>\n",
              "      <td>-0.882136</td>\n",
              "      <td>yes</td>\n",
              "    </tr>\n",
              "    <tr>\n",
              "      <th>4</th>\n",
              "      <td>M</td>\n",
              "      <td>-1.483588</td>\n",
              "      <td>8.391814e-01</td>\n",
              "      <td>-1.404892</td>\n",
              "      <td>-1.302921</td>\n",
              "      <td>-0.567087</td>\n",
              "      <td>no</td>\n",
              "    </tr>\n",
              "  </tbody>\n",
              "</table>\n",
              "</div>"
            ],
            "text/plain": [
              "  gender     hsc_p         ssc_p  ...    height    salary  suffer_from_disease\n",
              "0      M  0.508834 -2.795035e-16  ...  1.216399  0.220534                   no\n",
              "1      M -0.441398  6.713451e-01  ...  0.707446 -0.409563                   no\n",
              "2      F  0.294265  1.678363e-01  ... -0.564939  1.638252                  yes\n",
              "3      F  1.121887 -1.678363e+00  ... -0.055985 -0.882136                  yes\n",
              "4      M -1.483588  8.391814e-01  ... -1.302921 -0.567087                   no\n",
              "\n",
              "[5 rows x 7 columns]"
            ]
          },
          "metadata": {},
          "execution_count": 8
        }
      ]
    }
  ]
}